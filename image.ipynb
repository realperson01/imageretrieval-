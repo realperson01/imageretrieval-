1.
#Question 1
## What’s the least common category in the training data?

sketch = graphlab.Sketch(image_train['label'])
sketch = image_train['label'].sketch_summary()
sketch

+------------------+-------+----------+
|       item       | value | is exact |
+------------------+-------+----------+
|      Length      |  2005 |   Yes    |
| # Missing Values |   0   |   Yes    |
| # unique values  |   4   |    No    |
+------------------+-------+----------+

Most frequent items:
+-------+------------+-----+-----+------+
| value | automobile | cat | dog | bird |
+-------+------------+-----+-----+------+
| count |    509     | 509 | 509 | 478  |
+-------+------------+-----+-----+------+

dog=image_train.filter_by(['dog'],'label')

cat=image_train.filter_by(['cat'],'label')

automobile=image_train.filter_by(['automobile'],'label')

bird=image_train.filter_by(['bird'],'label')

#Question 2
## What is the nearest ‘dog’ labeled image in the training data to the cat image above (the first image in the test data)?

dog=image_test[0:1]
dog_model.query(dog)

Starting pairwise querying.
+--------------+---------+-------------+--------------+
| Query points | # Pairs | % Complete. | Elapsed Time |
+--------------+---------+-------------+--------------+
| 0            | 1       | 0.196464    | 13.536ms     |
| Done         |         | 100         | 97.263ms     |
+--------------+---------+-------------+--------------+

query_label	reference_label	distance	rank
0	16976	37.4642628784	1
0	13387	37.5666832169	2
0	35867	37.6047267079	3
0	44603	37.7065585153	4
0	6094	38.5113254907	5
[5 rows x 4 columns]


def get_images_from_ids(query_result):
    return image_train.filter_by(query_result['reference_label'],'id')
get_images_from_ids(dog_model.query(dog))['image'].show()

Starting pairwise querying.
+--------------+---------+-------------+--------------+
| Query points | # Pairs | % Complete. | Elapsed Time |
+--------------+---------+-------------+--------------+
| 0            | 1       | 0.196464    | 11.03ms      |
| Done         |         | 100         | 109.45ms     |
+--------------+---------+-------------+--------------+

#Question 3
 ## What’s the nearest neighbors in the training set for cat?

cat_dog_neighbors = dog_model.query(image_test_cat, k=1)

cat_cat_neighbors = dog_model.query(image_test_cat, k=1)

cat_automobile_neighbors = automobile_model.query(image_test_cat, k=1)

cat_bird_neighbors = bird_model.query(image_test_cat, k=1)

#Question 4
## In what range is the accuracy of the 1-nearest neighbor classifier at classifying ‘dog’ images from the test set?

knn_classifier_model_dog = graphlab.nearest_neighbor_classifier.create(image_train, features=['deep_features'], target='label' )

image_test_dog = image_test.filter_by(['dog'],'label')

knn_classifier_model_dog.evaluate(image_test_dog,max_neighbors=1)


#Question 5
##Of the images below, which is the nearest ‘cat’ labeled image in the training data to the the first image in the test data (image_test[0:1])?

image_test[0:1]['image'].show()

image_train_cat = image_train.filter_by(['cat'],'label')
knn_model_cat = graphlab.nearest_neighbors.create(image_train_cat,features=['deep_features'], label='id')
cat_neighbors = get_images_from_ids(knn_model_cat.query(image_test[0:1],k=1))
cat_neighbors['image'].show()

